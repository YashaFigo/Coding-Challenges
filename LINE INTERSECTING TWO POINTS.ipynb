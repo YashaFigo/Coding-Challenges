{
 "cells": [
  {
   "cell_type": "markdown",
   "metadata": {},
   "source": [
    "## CHALLENGE: Given two points, build a function that plots a line that intersects them both. "
   ]
  },
  {
   "cell_type": "code",
   "execution_count": 25,
   "metadata": {
    "collapsed": true
   },
   "outputs": [],
   "source": [
    "import seaborn as sns; sns.set()\n",
    "   #THIS GIVES GRAPHS THE SEABORN STYLING, VERY ELEGANT-LOKING RESULTS\n",
    "    \n",
    "from __future__ import division\n",
    "import matplotlib.pyplot as plt\n",
    "import numpy as np\n",
    "%matplotlib inline\n",
    "plt.rcParams['figure.figsize'] = (7,7)"
   ]
  },
  {
   "cell_type": "markdown",
   "metadata": {},
   "source": [
    "## 0. THE DATA:"
   ]
  },
  {
   "cell_type": "code",
   "execution_count": 38,
   "metadata": {
    "collapsed": false
   },
   "outputs": [
    {
     "data": {
      "image/png": "[encoded data removed]",
      "text/plain": [
       "<matplotlib.figure.Figure at 0x10bc98290>"
      ]
     },
     "metadata": {},
     "output_type": "display_data"
    }
   ],
   "source": [
    "point_1 = [-2,4]\n",
    "point_2 = [3,5]\n",
    "\n",
    "plt.scatter(point_1[0],point_1[1],s=200,c='g')\n",
    "plt.scatter(point_2[0],point_2[1],s=200,c='r')\n",
    "plt.show()"
   ]
  },
  {
   "cell_type": "markdown",
   "metadata": {},
   "source": [
    "## 1. FINDING THE SLOPE"
   ]
  },
  {
   "cell_type": "markdown",
   "metadata": {},
   "source": [
    ">### The slope of a line intersecting two points is the rate of change between the two points’ x and y-values. \n",
    "\n",
    "><b>The slope formula is rise / run   \n",
    "><b>The rate of change is y2-y1 / x2-x1"
   ]
  },
  {
   "cell_type": "code",
   "execution_count": 29,
   "metadata": {
    "collapsed": false
   },
   "outputs": [
    {
     "name": "stdout",
     "output_type": "stream",
     "text": [
      "0.2\n"
     ]
    }
   ],
   "source": [
    "point_1 = [-2,4]\n",
    "point_2 = [3,5]\n",
    "\n",
    "x1 = point_1[0]\n",
    "y1 = point_1[1]\n",
    "\n",
    "x2 = point_2[0]\n",
    "y2 = point_2[1]\n",
    "\n",
    "slope = (y2-y1)/(x2-x1)\n",
    "\n",
    "print(slope)"
   ]
  },
  {
   "cell_type": "markdown",
   "metadata": {},
   "source": [
    "## 2. FINDING THE INTERCEPT"
   ]
  },
  {
   "cell_type": "markdown",
   "metadata": {},
   "source": [
    "### If we have the x and y values of a datapoint along with the slope, we can determine the intercept of the line that intersects it. "
   ]
  },
  {
   "cell_type": "markdown",
   "metadata": {},
   "source": [
    "### y_value = (slope * x_value) + intercept   \n",
    "### intercept = y_value - (slope * x_value)\n"
   ]
  },
  {
   "cell_type": "code",
   "execution_count": 30,
   "metadata": {
    "collapsed": false
   },
   "outputs": [
    {
     "name": "stdout",
     "output_type": "stream",
     "text": [
      "4.4\n"
     ]
    }
   ],
   "source": [
    "intercept = y1 - (slope*x1)\n",
    "print(intercept)"
   ]
  },
  {
   "cell_type": "markdown",
   "metadata": {},
   "source": [
    "## 3. USING A DATA POINT TO PLOT THE LINE"
   ]
  },
  {
   "cell_type": "code",
   "execution_count": 40,
   "metadata": {
    "collapsed": false
   },
   "outputs": [
    {
     "data": {
      "image/png": "[encoded data removed]",
      "text/plain": [
       "<matplotlib.figure.Figure at 0x10bc8c110>"
      ]
     },
     "metadata": {},
     "output_type": "display_data"
    }
   ],
   "source": [
    "#CREATE X and Y VALUES FOR THE LINE PLOT\n",
    "x_points = np.linspace(-4,4)\n",
    "y_points = [(x*slope + intercept) for x in x_points]\n",
    "\n",
    "#PLOT ORIGINAL POINTS\n",
    "plt.scatter(point_1[0],point_1[1],s=200,c='g')\n",
    "plt.scatter(point_2[0],point_2[1],s=200,c='r')\n",
    "\n",
    "#PLOT THE LINE\n",
    "plt.plot(x_points,y_points,color='k',ls='dashed')\n",
    "\n",
    "plt.xlim(-4,4)\n",
    "plt.show()"
   ]
  },
  {
   "cell_type": "markdown",
   "metadata": {},
   "source": [
    "---"
   ]
  },
  {
   "cell_type": "markdown",
   "metadata": {},
   "source": [
    "## 4. PUTTING IT ALL TOGETHER INTO A FUNCTION:"
   ]
  },
  {
   "cell_type": "code",
   "execution_count": 45,
   "metadata": {
    "collapsed": false
   },
   "outputs": [
    {
     "data": {
      "image/png": "[encoded data removed]",
      "text/plain": [
       "<matplotlib.figure.Figure at 0x10d9e5cd0>"
      ]
     },
     "metadata": {},
     "output_type": "display_data"
    }
   ],
   "source": [
    "def line_points(point_1,point_2):\n",
    "    \n",
    "    x1 = point_1[0]\n",
    "    y1 = point_1[1]\n",
    "    x2 = point_2[0]\n",
    "    y2 = point_2[1]\n",
    "\n",
    "    slope = (y2-y1)/(x2-x1)\n",
    "    intercept = y1 - (slope*x1)\n",
    "    \n",
    "    x_min = min(x1,x2)\n",
    "    x_max = max(x1,x2)\n",
    "    \n",
    "    x_points = np.linspace(x_min-1,x_max+1)\n",
    "    y_points = [(x*slope + intercept) for x in x_points]\n",
    "\n",
    "    plt.scatter(point_1[0],point_1[1],s=200,c='g')\n",
    "    plt.scatter(point_2[0],point_2[1],s=200,c='r')\n",
    "    plt.plot(x_points,y_points,color='k',ls='dashed')\n",
    "    plt.xlim(x_min-1,x_max+1)\n",
    "\n",
    "    plt.rcParams['figure.figsize'] = (7,7)\n",
    "    plt.show() \n",
    "    \n",
    "point_1 = [-2,4]\n",
    "point_2 = [3,5]    \n",
    "line_points(point_1,point_2)"
   ]
  },
  {
   "cell_type": "markdown",
   "metadata": {},
   "source": [
    "---"
   ]
  }
 ],
 "metadata": {
  "kernelspec": {
   "display_name": "Python 2",
   "language": "python",
   "name": "python2"
  },
  "language_info": {
   "codemirror_mode": {
    "name": "ipython",
    "version": 2
   },
   "file_extension": ".py",
   "mimetype": "text/x-python",
   "name": "python",
   "nbconvert_exporter": "python",
   "pygments_lexer": "ipython2",
   "version": "2.7.11"
  }
 },
 "nbformat": 4,
 "nbformat_minor": 0
}
