{
 "cells": [
  {
   "cell_type": "markdown",
   "metadata": {},
   "source": [
    "### CHALLENGE:\n",
    "\n",
    "<b>\n",
    "Given two binary numbers, return their sum (also a binary number).\n",
    "</b>\n",
    "\n",
    "<b>\n",
    "For example:   \n",
    "</b>\n",
    "<b>\n",
    "a = 11    \n",
    "</b>\n",
    "<b>\n",
    "b = 1   \n",
    "</b>\n",
    "<b>\n",
    "Return 100\n",
    "</b>\n"
   ]
  },
  {
   "cell_type": "markdown",
   "metadata": {},
   "source": [
    "---"
   ]
  },
  {
   "cell_type": "markdown",
   "metadata": {},
   "source": [
    "---"
   ]
  },
  {
   "cell_type": "markdown",
   "metadata": {},
   "source": [
    "---"
   ]
  },
  {
   "cell_type": "markdown",
   "metadata": {},
   "source": [
    "#### >>>SCROLL DOWN FOR NSWER<<<"
   ]
  },
  {
   "cell_type": "markdown",
   "metadata": {},
   "source": [
    "---"
   ]
  },
  {
   "cell_type": "markdown",
   "metadata": {},
   "source": [
    "---"
   ]
  },
  {
   "cell_type": "markdown",
   "metadata": {},
   "source": [
    "---"
   ]
  },
  {
   "cell_type": "markdown",
   "metadata": {},
   "source": [
    "---"
   ]
  },
  {
   "cell_type": "markdown",
   "metadata": {},
   "source": [
    "---"
   ]
  },
  {
   "cell_type": "markdown",
   "metadata": {},
   "source": [
    "---"
   ]
  },
  {
   "cell_type": "markdown",
   "metadata": {},
   "source": [
    "---"
   ]
  },
  {
   "cell_type": "markdown",
   "metadata": {},
   "source": [
    "---"
   ]
  },
  {
   "cell_type": "markdown",
   "metadata": {},
   "source": [
    "---"
   ]
  },
  {
   "cell_type": "markdown",
   "metadata": {},
   "source": [
    "### 1. BUILD A FUNCTION THAT ENCODES A REAL NIMBER INTO A BINARY STRING"
   ]
  },
  {
   "cell_type": "code",
   "execution_count": 135,
   "metadata": {
    "collapsed": false
   },
   "outputs": [
    {
     "data": {
      "text/plain": [
       "101001"
      ]
     },
     "execution_count": 135,
     "metadata": {},
     "output_type": "execute_result"
    }
   ],
   "source": [
    "def bin_encoder(target_number):\n",
    "    \n",
    "    def indexer(target_number):\n",
    "        index = [1]\n",
    "        while sum(index)< target_number:\n",
    "            index.append(index[-1]*2)\n",
    "        return [x for x in reversed(index)]\n",
    "\n",
    "    encoding = []\n",
    "    index = indexer(target_number)\n",
    "\n",
    "    for x in index:\n",
    "        if (sum(encoding)+x) <= target_number:\n",
    "            encoding.append(x)\n",
    "        else:\n",
    "            encoding.append(0)\n",
    "\n",
    "    binary_encoder = []\n",
    "\n",
    "    for x in encoding:\n",
    "        if x != 0:\n",
    "            binary_encoder.append(1)\n",
    "        else:\n",
    "            binary_encoder.append(0)\n",
    "\n",
    "    return int(\"\".join([str(x) for x in binary_encoder]))\n",
    "\n",
    "bin_encoder(41)"
   ]
  },
  {
   "cell_type": "markdown",
   "metadata": {},
   "source": [
    "---"
   ]
  },
  {
   "cell_type": "markdown",
   "metadata": {},
   "source": [
    "### 2. BUILD A FUNCTION THAT DECODES A BINARY STRING INTO A REAL NUMBER "
   ]
  },
  {
   "cell_type": "code",
   "execution_count": 139,
   "metadata": {
    "collapsed": false
   },
   "outputs": [
    {
     "data": {
      "text/plain": [
       "41"
      ]
     },
     "execution_count": 139,
     "metadata": {},
     "output_type": "execute_result"
    }
   ],
   "source": [
    "def bin_decoder(target_binary):\n",
    "\n",
    "    binary_splitter = [int(x) for x in str(target_binary)]\n",
    "    \n",
    "    indexer = []\n",
    "    \n",
    "    for x in binary_splitter:\n",
    "        if len(indexer)==0:\n",
    "            indexer.append(x)\n",
    "        else:\n",
    "            indexer.append(indexer[-1]*2)\n",
    "            \n",
    "    indexer = [x for x in reversed(indexer)]\n",
    "    \n",
    "    zipper = zip(binary_splitter,indexer)\n",
    "    \n",
    "    converted_number = 0\n",
    "    \n",
    "    for x in zipper:\n",
    "        if x[0]==1:\n",
    "            converted_number += x[1]\n",
    "    \n",
    "    return converted_number\n",
    "    \n",
    "bin_decoder(101001)"
   ]
  },
  {
   "cell_type": "markdown",
   "metadata": {},
   "source": [
    "---"
   ]
  },
  {
   "cell_type": "markdown",
   "metadata": {},
   "source": [
    "### 3. GLUE THEM TOGETHER: \n",
    "<b>\n",
    "BUILD A FUNCTION THAT: \n",
    "\n",
    "A) TAKES IN DESIRED BINARY NUMBERS AS ARGUMENTS    \n",
    "B) CONVERTS THEM INTO REAL NUMBERS   \n",
    "C) ADDS THEM INTO ONE REAL NUMBER    \n",
    "D) AND ENCODES THE ONE REAL NUMBER BACK INTO A BINARY STRING\n",
    "</b>\n"
   ]
  },
  {
   "cell_type": "code",
   "execution_count": 140,
   "metadata": {
    "collapsed": false
   },
   "outputs": [
    {
     "data": {
      "text/plain": [
       "100"
      ]
     },
     "execution_count": 140,
     "metadata": {},
     "output_type": "execute_result"
    }
   ],
   "source": [
    "def binary_sum(*args):\n",
    "    \n",
    "    decodings = []\n",
    "    \n",
    "    for x in args:\n",
    "        decodings.append(bin_decoder(x))\n",
    "        \n",
    "    sum_decodings = sum(decodings)\n",
    "    \n",
    "    return(bin_encoder(sum_decodings))\n",
    "\n",
    "binary_sum(1,11)"
   ]
  },
  {
   "cell_type": "markdown",
   "metadata": {},
   "source": [
    "---"
   ]
  }
 ],
 "metadata": {
  "kernelspec": {
   "display_name": "Python 2",
   "language": "python",
   "name": "python2"
  },
  "language_info": {
   "codemirror_mode": {
    "name": "ipython",
    "version": 2
   },
   "file_extension": ".py",
   "mimetype": "text/x-python",
   "name": "python",
   "nbconvert_exporter": "python",
   "pygments_lexer": "ipython2",
   "version": "2.7.11"
  }
 },
 "nbformat": 4,
 "nbformat_minor": 0
}
